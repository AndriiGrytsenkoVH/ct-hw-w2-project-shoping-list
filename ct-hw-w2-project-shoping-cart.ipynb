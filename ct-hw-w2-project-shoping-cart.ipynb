{
 "cells": [
  {
   "attachments": {},
   "cell_type": "markdown",
   "metadata": {},
   "source": [
    "### Build a shopping cart program with the following capabilities:\n",
    "\n",
    "1) Takes in an input\n",
    "2) Stores user input into a dictionary or list\n",
    "3) The User can add or delete items\n",
    "4) The User can see current shopping list\n",
    "5) The program Loops until user 'quits'\n",
    "6) Upon quiting the program, prints out a receipt of the items with total and quantity."
   ]
  },
  {
   "cell_type": "code",
   "execution_count": 9,
   "metadata": {},
   "outputs": [],
   "source": [
    "# global dict to store the shopping list\n",
    "# format: {name: (quantity, price), ...}\n",
    "shopping_list = dict()\n",
    "\n",
    "actions = {\n",
    "    \"add\": add_correct_action,\n",
    "    \"correct\": add_correct_action,\n",
    "    \"remove\": remove_action,\n",
    "    \"show\": print_shopping_list_action,\n",
    "    \"clear\": clear_action,\n",
    "    \"quit\": quit_action\n",
    "}"
   ]
  },
  {
   "cell_type": "code",
   "execution_count": 12,
   "metadata": {},
   "outputs": [],
   "source": [
    "def add_correct_action():\n",
    "    \"\"\"\n",
    "    Prompts user to add new entry into shopping list or override existing one\n",
    "    \"\"\"\n",
    "\n",
    "    name = input(\"What would you like to add or correct?\\n\").strip(\" ,.\").title()\n",
    "    \n",
    "    # quantity\n",
    "    while True:\n",
    "        try:\n",
    "            #can specify quantity or weight, therefore use float\n",
    "            quantity = float(input(\"how many/much?\\n\"))\n",
    "            break\n",
    "        except:\n",
    "            print(\"Must specify quantity in integer or float\")\n",
    "    \n",
    "    # price\n",
    "    while True:\n",
    "        try:\n",
    "            price = float(input(\"at what price?\\n\"))\n",
    "            break\n",
    "        except:\n",
    "            print(\"Must specify price in integer or float\")\n",
    "    \n",
    "    shopping_list[name] = (quantity, price)\n",
    "    return updater_function()"
   ]
  },
  {
   "cell_type": "code",
   "execution_count": 13,
   "metadata": {},
   "outputs": [],
   "source": [
    "def remove_action():\n",
    "    #TODO add descriptions to functions\n",
    "    #TODO what if there isn't such an item\n",
    "    name = input(\"Which item to remove?\").lower()\n",
    "    if shopping_list.get(name):\n",
    "        print(\"There is no such item\")\n",
    "        return updater_function()\n",
    "    print(f\"Currently there is {shopping_list[name][0]} of {name} priced at ${shopping_list[name][1]:.2f}\")\n",
    "    while True:\n",
    "        try:\n",
    "            quantity = float(input(\"how many/much to remove?\\n\"))\n",
    "            break\n",
    "        except:\n",
    "            print(\"Must specify quantity in integer or float\")\n",
    "    new_quantity = shopping_list[name][0] - quantity\n",
    "    if new_quantity < 0:\n",
    "        print(\"Remove quantity is greater then current\")\n",
    "        while True:\n",
    "            answer = input(\"Did you wish to remove all such items from the list? (y/n)\")\n",
    "            if answer == 'y':\n",
    "                del shopping_list[name]\n",
    "                return updater_function()\n",
    "            elif answer == 'n':\n",
    "                return updater_function()\n",
    "            else:\n",
    "                print(\"Invalid answer. Please pass 'y' for yes or 'n' for no\\n\")\n",
    "    shopping_list[name][0] = new_quantity\n",
    "    return updater_function()"
   ]
  },
  {
   "cell_type": "code",
   "execution_count": 14,
   "metadata": {},
   "outputs": [],
   "source": [
    "#TODO add descriptions to functions\n",
    "def print_shopping_list_action(loop = True):\n",
    "    print(\"This is you recept\")\n",
    "    total = 0\n",
    "    for name, amount in shopping_list.items():\n",
    "        total_item = amount[0]*amount[1]\n",
    "        print(f\"\\t{amount[0]} {name} for ${amount[1]} --- ${total_item:.2f}\")\n",
    "        total += total_item\n",
    "    print(f\"Total: ${total:.2f}\")\n",
    "    if loop:\n",
    "        return updater_function()\n",
    "    return None"
   ]
  },
  {
   "cell_type": "code",
   "execution_count": 15,
   "metadata": {},
   "outputs": [],
   "source": [
    "def clear_action():\n",
    "    #Ask if user is sure and execute accordingly\n",
    "    while True:\n",
    "        answer = input(\"Are you sure you want to clear an entire shopping list?\\nThis change is permanent\\n(y/n) \").lower()\n",
    "        if answer == 'y':\n",
    "            shopping_list.clear()\n",
    "            return updater_function()\n",
    "        elif answer == 'n':\n",
    "            return updater_function()\n",
    "        else:\n",
    "            print(\"Invalid answer. Please pass 'y' for yes or 'n' for no\\n\")"
   ]
  },
  {
   "cell_type": "code",
   "execution_count": 16,
   "metadata": {},
   "outputs": [],
   "source": [
    "def quit_action():\n",
    "    while True:\n",
    "        answer = input(\"Are you sure you want to quit\\n(y/n) \").lower()\n",
    "        if answer == 'y':\n",
    "            return None\n",
    "        if answer == 'n':\n",
    "            return updater_function()\n",
    "        print(\"Invalid answer. Please pass 'y' for yes or 'n' for no\\n\")"
   ]
  },
  {
   "cell_type": "code",
   "execution_count": 17,
   "metadata": {},
   "outputs": [],
   "source": [
    "def invalid_action():\n",
    "    print(\n",
    "        \"\"\"\n",
    "        Invalid answer\n",
    "        'add' - to add item\n",
    "        'remove' - to remove item\n",
    "        'show' - to print current recept\n",
    "        'clear' - to clear all entries from the recept\n",
    "        'quit' - to quit writing and print final recept\n",
    "        \"\"\"\n",
    "    )\n",
    "    return updater_function()"
   ]
  },
  {
   "cell_type": "code",
   "execution_count": 18,
   "metadata": {},
   "outputs": [
    {
     "name": "stdout",
     "output_type": "stream",
     "text": [
      "This is you recept\n",
      "\t10.0 Apple for $10.0 --- $100.00\n",
      "\t9.0 Potato for $9.0 --- $81.00\n",
      "Total: $181.00\n",
      "This is you recept\n",
      "Total: $0.00\n",
      "Must specify quantity in integer or float\n",
      "This is you recept\n",
      "\t10.0 Apple for $10.0 --- $100.00\n",
      "\t9.0 Potato for $9.0 --- $81.00\n",
      "Total: $181.00\n"
     ]
    }
   ],
   "source": [
    "def updater_function():\n",
    "    # lower method, for better user experience\n",
    "    answer = input(\"What would you like to do: Add(or Correct)/Remove/Show/Clear/Quit \").lower()\n",
    "    return actions.get(answer, invalid_action)()\n",
    "\n",
    "# print list\n",
    "updater_function()\n",
    "# TODO print quantity without trailing zeroes\n",
    "print_shopping_list_action(loop = False)"
   ]
  },
  {
   "cell_type": "code",
   "execution_count": 4,
   "metadata": {},
   "outputs": [
    {
     "name": "stdout",
     "output_type": "stream",
     "text": [
      "999\n"
     ]
    }
   ],
   "source": [
    "# sandbox\n",
    "def func1():\n",
    "    print(1)\n",
    "def func2():\n",
    "    print(2)\n",
    "def func3():\n",
    "    print(3)\n",
    "def func4():\n",
    "    print(4)\n",
    "def default():\n",
    "    print(999)\n",
    "\n",
    "d = {\n",
    "    \"one\": func1,\n",
    "    \"two\": func2,\n",
    "    \"three\": func3,\n",
    "    \"four\": func4\n",
    "} \n",
    "\n",
    "d.get(\"five\",default)()"
   ]
  }
 ],
 "metadata": {
  "kernelspec": {
   "display_name": "Python 3",
   "language": "python",
   "name": "python3"
  },
  "language_info": {
   "codemirror_mode": {
    "name": "ipython",
    "version": 3
   },
   "file_extension": ".py",
   "mimetype": "text/x-python",
   "name": "python",
   "nbconvert_exporter": "python",
   "pygments_lexer": "ipython3",
   "version": "3.10.8"
  },
  "orig_nbformat": 4,
  "vscode": {
   "interpreter": {
    "hash": "26de051ba29f2982a8de78e945f0abaf191376122a1563185a90213a26c5da77"
   }
  }
 },
 "nbformat": 4,
 "nbformat_minor": 2
}
