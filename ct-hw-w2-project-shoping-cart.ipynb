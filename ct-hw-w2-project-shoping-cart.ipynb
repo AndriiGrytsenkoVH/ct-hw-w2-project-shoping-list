{
 "cells": [
  {
   "attachments": {},
   "cell_type": "markdown",
   "metadata": {},
   "source": [
    "### Build a shopping cart program with the following capabilities:\n",
    "\n",
    "1) Takes in an input\n",
    "2) Stores user input into a dictionary or list\n",
    "3) The User can add or delete items\n",
    "4) The User can see current shopping list\n",
    "5) The program Loops until user 'quits'\n",
    "6) Upon quiting the program, prints out a receipt of the items with total and quantity."
   ]
  },
  {
   "cell_type": "code",
   "execution_count": 38,
   "metadata": {},
   "outputs": [
    {
     "name": "stdout",
     "output_type": "stream",
     "text": [
      "This is you recept\n"
     ]
    },
    {
     "ename": "TypeError",
     "evalue": "'float' object is not subscriptable",
     "output_type": "error",
     "traceback": [
      "\u001b[1;31m---------------------------------------------------------------------------\u001b[0m",
      "\u001b[1;31mTypeError\u001b[0m                                 Traceback (most recent call last)",
      "Cell \u001b[1;32mIn[38], line 105\u001b[0m\n\u001b[0;32m     99\u001b[0m     \u001b[39mreturn\u001b[39;00m updater_funcrion()\n\u001b[0;32m    102\u001b[0m     \u001b[39m# switch for valid inputs with an else for invalid\u001b[39;00m\n\u001b[0;32m    103\u001b[0m \n\u001b[0;32m    104\u001b[0m \u001b[39m# print list\u001b[39;00m\n\u001b[1;32m--> 105\u001b[0m updater_function()\n\u001b[0;32m    106\u001b[0m print_shopping_list()\n",
      "Cell \u001b[1;32mIn[38], line 41\u001b[0m, in \u001b[0;36mupdater_function\u001b[1;34m()\u001b[0m\n\u001b[0;32m     39\u001b[0m \u001b[39mmatch\u001b[39;00m answer:\n\u001b[0;32m     40\u001b[0m     \u001b[39mcase\u001b[39;00m \u001b[39m\"\u001b[39m\u001b[39madd\u001b[39m\u001b[39m\"\u001b[39m:\n\u001b[1;32m---> 41\u001b[0m         add_correct()\n\u001b[0;32m     42\u001b[0m     \u001b[39m# TODO how to add or statement to cases?\u001b[39;00m\n\u001b[0;32m     43\u001b[0m     \u001b[39mcase\u001b[39;00m \u001b[39m\"\u001b[39m\u001b[39mcorrect\u001b[39m\u001b[39m\"\u001b[39m:\n",
      "Cell \u001b[1;32mIn[38], line 22\u001b[0m, in \u001b[0;36madd_correct\u001b[1;34m()\u001b[0m\n\u001b[0;32m     20\u001b[0m         \u001b[39mprint\u001b[39m(\u001b[39m\"\u001b[39m\u001b[39mMust specify price in integer or float\u001b[39m\u001b[39m\"\u001b[39m)\n\u001b[0;32m     21\u001b[0m shopping_list[quantity] \u001b[39m=\u001b[39m price\n\u001b[1;32m---> 22\u001b[0m \u001b[39mreturn\u001b[39;00m updater_function()\n",
      "Cell \u001b[1;32mIn[38], line 62\u001b[0m, in \u001b[0;36mupdater_function\u001b[1;34m()\u001b[0m\n\u001b[0;32m     58\u001b[0m         \u001b[39mprint\u001b[39m(\u001b[39m\"\u001b[39m\u001b[39mThere is no such item\u001b[39m\u001b[39m\"\u001b[39m)\n\u001b[0;32m     59\u001b[0m \u001b[39mcase\u001b[39;00m \u001b[39m\"\u001b[39m\u001b[39mshow\u001b[39m\u001b[39m\"\u001b[39m:\n\u001b[0;32m     60\u001b[0m     \u001b[39m#print out an entire dictionary\u001b[39;00m\n\u001b[0;32m     61\u001b[0m     \u001b[39m#same as last section, but text reflects that list is not over yet\u001b[39;00m\n\u001b[1;32m---> 62\u001b[0m     print_shopping_list()\n\u001b[0;32m     63\u001b[0m \u001b[39mcase\u001b[39;00m \u001b[39m\"\u001b[39m\u001b[39mclear\u001b[39m\u001b[39m\"\u001b[39m:\n\u001b[0;32m     64\u001b[0m     \u001b[39m#Ask if user is sure and execute accordingly\u001b[39;00m\n\u001b[0;32m     65\u001b[0m     \u001b[39m#TODO placeholder now\u001b[39;00m\n\u001b[0;32m     66\u001b[0m     \u001b[39mwhile\u001b[39;00m \u001b[39mTrue\u001b[39;00m:\n",
      "Cell \u001b[1;32mIn[38], line 29\u001b[0m, in \u001b[0;36mprint_shopping_list\u001b[1;34m()\u001b[0m\n\u001b[0;32m     27\u001b[0m total \u001b[39m=\u001b[39m \u001b[39m0\u001b[39m\n\u001b[0;32m     28\u001b[0m \u001b[39mfor\u001b[39;00m name, amount \u001b[39min\u001b[39;00m shopping_list\u001b[39m.\u001b[39mitems():\n\u001b[1;32m---> 29\u001b[0m     total_item \u001b[39m=\u001b[39m amount[\u001b[39m0\u001b[39;49m]\u001b[39m*\u001b[39mamount[\u001b[39m1\u001b[39m]\n\u001b[0;32m     30\u001b[0m     total \u001b[39m+\u001b[39m\u001b[39m=\u001b[39m total_item\n\u001b[0;32m     31\u001b[0m     \u001b[39mprint\u001b[39m(\u001b[39mf\u001b[39m\u001b[39m\"\u001b[39m\u001b[39m\\t\u001b[39;00m\u001b[39m{\u001b[39;00mamount[\u001b[39m0\u001b[39m]\u001b[39m}\u001b[39;00m\u001b[39m \u001b[39m\u001b[39m{\u001b[39;00mname\u001b[39m}\u001b[39;00m\u001b[39m for $\u001b[39m\u001b[39m{\u001b[39;00mamount[\u001b[39m1\u001b[39m]\u001b[39m}\u001b[39;00m\u001b[39m --- $\u001b[39m\u001b[39m{\u001b[39;00mtotal_item\u001b[39m:\u001b[39;00m\u001b[39m.2f\u001b[39m\u001b[39m}\u001b[39;00m\u001b[39m\"\u001b[39m)\n",
      "\u001b[1;31mTypeError\u001b[0m: 'float' object is not subscriptable"
     ]
    }
   ],
   "source": [
    "# global dict to store the shopping list\n",
    "# format: {name: (quantity, price), ...}\n",
    "shopping_list = dict()\n",
    "\n",
    "def add_correct():\n",
    "    #Adding a new entry\n",
    "    name = input(\"What would you like to add?\\n\")\n",
    "    #can specify quantity or weight\n",
    "    while True:\n",
    "        try:\n",
    "            quantity = float(input(\"how many/much?\\n\"))\n",
    "            break\n",
    "        except:\n",
    "            print(\"Must specify quantity in integer or float\")\n",
    "    while True:\n",
    "        try:\n",
    "            price = float(input(\"at what price?\\n\"))\n",
    "            break\n",
    "        except:\n",
    "            print(\"Must specify price in integer or float\")\n",
    "    shopping_list[quantity] = price\n",
    "    return updater_function()\n",
    "    \n",
    "\n",
    "def print_shopping_list():\n",
    "    print(\"This is you recept\")\n",
    "    total = 0\n",
    "    for name, amount in shopping_list.items():\n",
    "        total_item = amount[0]*amount[1]\n",
    "        total += total_item\n",
    "        print(f\"\\t{amount[0]} {name} for ${amount[1]} --- ${total_item:.2f}\")\n",
    "    print(f\"Total: ${total:.2f}\")\n",
    "\n",
    "# updater loop\n",
    "def updater_function():\n",
    "    # lower method, for better user experience\n",
    "    answer = input(\"What would you like to do: Add(or Correct)/Remove/Show/Clear/Quit \").lower()\n",
    "    #TODO how match works exactly? is it like if-elif or dict ?\n",
    "    match answer:\n",
    "        case \"add\":\n",
    "            add_correct()\n",
    "        # TODO how to add or statement to cases?\n",
    "        case \"correct\":\n",
    "            add_correct()\n",
    "        case \"remove\":\n",
    "            #completely remove an entry\n",
    "            #TODO what if there isn't such an item\n",
    "            name = input(\"Which item to remove?\").lower()\n",
    "            if shopping_list.get(name):\n",
    "                while True:\n",
    "                    try:\n",
    "                        print(f\"Currently there is {shopping_list[name][0]} of \")\n",
    "                        quantity = float(input(\"how many/much?\\n\"))\n",
    "                        break\n",
    "                    except:\n",
    "                        print(\"Must specify quantity in integer or float\")\n",
    "            else:\n",
    "                print(\"There is no such item\")\n",
    "        case \"show\":\n",
    "            #print out an entire dictionary\n",
    "            #same as last section, but text reflects that list is not over yet\n",
    "            print_shopping_list()\n",
    "        case \"clear\":\n",
    "            #Ask if user is sure and execute accordingly\n",
    "            #TODO placeholder now\n",
    "            while True:\n",
    "                answer = input(\"Are you sure you want to clear an entire shopping list?\\nThis change is permanent\\n(y/n) \").lower()\n",
    "                if answer == 'y':\n",
    "                    shopping_list.clear()\n",
    "                    break\n",
    "                elif answer == 'n':\n",
    "                    break\n",
    "                else:\n",
    "                    print(\"Invalid answer. Please pass 'y' for yes or 'n' for no\\n\")\n",
    "        case \"Quit\":\n",
    "            ##Ask if user is sure and execute accordingly\n",
    "            while answer != 'y':\n",
    "                clarify = input(\"Are you sure you want to clear an entire shopping list?\\nThis change is permanent\\n(y/n) \")\n",
    "                if clarify == 'y':\n",
    "                    shopping_list.clear\n",
    "                    break\n",
    "                elif clarify == 'n':\n",
    "                    break\n",
    "                else:\n",
    "                    print(\"Invalid answer. Please pass 'y' for yes or 'n' for no\\n\")\n",
    "            return None\n",
    "        case _:\n",
    "            #Invalid answer\n",
    "            #TODO placeholder for now\n",
    "            print(\n",
    "                \"\"\"\n",
    "                Invalid answer\n",
    "                'add' - to add item\n",
    "                'remove' - to remove item\n",
    "                'show' - to print current recept\n",
    "                'clear' - to clear all entries from the recept\n",
    "                'quit' - to quit writing and print final recept\n",
    "                \"\"\")\n",
    "    return updater_funcrion()\n",
    "\n",
    "        \n",
    "    # switch for valid inputs with an else for invalid\n",
    "\n",
    "# print list\n",
    "updater_function()\n",
    "print_shopping_list()"
   ]
  },
  {
   "cell_type": "code",
   "execution_count": 37,
   "metadata": {},
   "outputs": [
    {
     "name": "stdout",
     "output_type": "stream",
     "text": [
      "\t1 one for $11 --- 11.00\n",
      "\t2 two for $22 --- 44.00\n",
      "\t3 three for $33 --- 99.00\n",
      "dict_items([('one', (1, 11)), ('two', (2, 22)), ('three', (3, 33))])\n"
     ]
    }
   ],
   "source": [
    "ddd = {\n",
    "    \"one\": (1,11),\n",
    "    \"two\": (2,22),\n",
    "    \"three\": (3,33)\n",
    "}\n",
    "\n",
    "for name,amount in ddd.items():\n",
    "    print(f\"\\t{amount[0]} {name} for ${amount[1]} --- {amount[0]*amount[1]:.2f}\")\n",
    "\n",
    "print(ddd.items())"
   ]
  }
 ],
 "metadata": {
  "kernelspec": {
   "display_name": "Python 3",
   "language": "python",
   "name": "python3"
  },
  "language_info": {
   "codemirror_mode": {
    "name": "ipython",
    "version": 3
   },
   "file_extension": ".py",
   "mimetype": "text/x-python",
   "name": "python",
   "nbconvert_exporter": "python",
   "pygments_lexer": "ipython3",
   "version": "3.10.8"
  },
  "orig_nbformat": 4,
  "vscode": {
   "interpreter": {
    "hash": "26de051ba29f2982a8de78e945f0abaf191376122a1563185a90213a26c5da77"
   }
  }
 },
 "nbformat": 4,
 "nbformat_minor": 2
}
