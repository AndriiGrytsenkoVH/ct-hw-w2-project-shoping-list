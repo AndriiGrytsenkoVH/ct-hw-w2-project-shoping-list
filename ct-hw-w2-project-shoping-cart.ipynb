{
 "cells": [
  {
   "attachments": {},
   "cell_type": "markdown",
   "metadata": {},
   "source": [
    "### Build a shopping cart program with the following capabilities:\n",
    "\n",
    "1) Takes in an input\n",
    "2) Stores user input into a dictionary or list\n",
    "3) The User can add or delete items\n",
    "4) The User can see current shopping list\n",
    "5) The program Loops until user 'quits'\n",
    "6) Upon quiting the program, prints out a receipt of the items with total and quantity."
   ]
  },
  {
   "cell_type": "code",
   "execution_count": 7,
   "metadata": {},
   "outputs": [
    {
     "ename": "SyntaxError",
     "evalue": "invalid syntax (1765905322.py, line 5)",
     "output_type": "error",
     "traceback": [
      "\u001b[1;36m  Cell \u001b[1;32mIn[7], line 5\u001b[1;36m\u001b[0m\n\u001b[1;33m    def add_update(:)\u001b[0m\n\u001b[1;37m                   ^\u001b[0m\n\u001b[1;31mSyntaxError\u001b[0m\u001b[1;31m:\u001b[0m invalid syntax\n"
     ]
    }
   ],
   "source": [
    "# global dict to store the shopping list\n",
    "# format: {name: (quantity, price), ...}\n",
    "shopping_list = {}\n",
    "\n",
    "def add_correct():\n",
    "    #Adding a new entry\n",
    "    name = input(\"What would you like to add?\\n\")\n",
    "    #can specify quantity or weight\n",
    "    while True:\n",
    "        try:\n",
    "            quantity = float(input(\"how many/much?\\n\"))\n",
    "            break\n",
    "        except:\n",
    "            print(\"Must specify quantity in integer or float\")\n",
    "    price = float(input(\"at what price?\\n\"))\n",
    "\n",
    "\n",
    "# updater loop\n",
    "def updater_function():\n",
    "    # lower method, for better user experience\n",
    "    answer = input(\"What would you like to do: Add(or Correct)/Remove/Show/Clear/Quit \").lower()\n",
    "    #TODO how match works exactly? is it like if-elif or dict ?\n",
    "    match answer:\n",
    "        case \"add\":\n",
    "\n",
    "        # TODO how to add or statement to cases?\n",
    "        case \"correct\":\n",
    "            \n",
    "        case \"remove\":\n",
    "            #completely remove an entry\n",
    "            #TODO or may be remove items\n",
    "\n",
    "        case \"show\":\n",
    "            #print out an entire dictionary\n",
    "            #same as last section, but text reflects that list is not over yet\n",
    "            print(\"\")\n",
    "        case \"clear\":\n",
    "            #Ask if user is sure and execure accordingly\n",
    "            #TODO placeholder now\n",
    "            while True:\n",
    "                answer = input(\"Are you sure you want to clear an entire shopping list?\\nThis change is permanent\\n(y/n) \").lower()\n",
    "                if answer == 'y':\n",
    "                    shopping_list.clear()\n",
    "                    break\n",
    "                elif answer == 'n':\n",
    "                    break\n",
    "                else:\n",
    "                    print(\"Invalid answer. Please pass 'y' for yes or 'n' for no\\n\")\n",
    "        case \"Quit\":\n",
    "            ##Ask if user is sure and execure accordingly\n",
    "            while answer != 'y':\n",
    "                clarify = input(\"Are you sure you want to clear an entire shopping list?\\nThis change is permanent\\n(y/n) \")\n",
    "                if clarify == 'y':\n",
    "                    shopping_list.clear\n",
    "                    break\n",
    "                elif clarify == 'n':\n",
    "                    break\n",
    "                else:\n",
    "                    print(\"Invalid answer. Please pass 'y' for yes or 'n' for no\\n\")\n",
    "            return \"final recept\"\n",
    "        case _:\n",
    "            #Invalid answer\n",
    "            #TODO placeholder for now\n",
    "            print(\n",
    "                \"\"\"\n",
    "                Invalid answer\n",
    "                'add' - to add item\n",
    "                'remove' - to remove item\n",
    "                'show' - to print current recept\n",
    "                'clear' - to clear all entries from the recept\n",
    "                'quit' - to quit writing and print final recept\n",
    "                \"\"\")\n",
    "    return updater_funcrion()\n",
    "\n",
    "        \n",
    "    # switch for valid inputs with an else for invalid\n",
    "\n",
    "# print list\n",
    "print(updater_function())"
   ]
  }
 ],
 "metadata": {
  "kernelspec": {
   "display_name": "Python 3",
   "language": "python",
   "name": "python3"
  },
  "language_info": {
   "codemirror_mode": {
    "name": "ipython",
    "version": 3
   },
   "file_extension": ".py",
   "mimetype": "text/x-python",
   "name": "python",
   "nbconvert_exporter": "python",
   "pygments_lexer": "ipython3",
   "version": "3.10.8"
  },
  "orig_nbformat": 4,
  "vscode": {
   "interpreter": {
    "hash": "26de051ba29f2982a8de78e945f0abaf191376122a1563185a90213a26c5da77"
   }
  }
 },
 "nbformat": 4,
 "nbformat_minor": 2
}
